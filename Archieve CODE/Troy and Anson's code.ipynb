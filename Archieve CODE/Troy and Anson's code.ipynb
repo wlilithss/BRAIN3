{
 "cells": [
  {
   "cell_type": "code",
   "execution_count": null,
   "id": "490e1af4",
   "metadata": {},
   "outputs": [],
   "source": [
    "from sklearn import metrics\n",
    "from scipy.stats import ttest_rel\n",
    "\n",
    "\n",
    "t_stat, p_value = ttest_rel(svm_scores, rf_scores)\n",
    "print(\"T-Test Results:\")\n",
    "print(\"T-Statistic:\", t_stat)\n",
    "print(\"P-Value:\", p_value)\n",
    "\n",
    "\n",
    "svm_decision = svm.fit(X, y).decision_function(X)\n",
    "svm_auc = metrics.roc_auc_score(y, svm_decision)\n",
    "\n",
    "\n",
    "rf_predictions = rf.fit(X, y).predict_proba(X)\n",
    "rf_auc = metrics.roc_auc_score(y, rf_predictions[:, 1])\n",
    "\n",
    "print(\"SVM AUC-ROC:\", svm_auc)\n",
    "print(\"Random Forest AUC-ROC:\", rf_auc)"
   ]
  },
  {
   "cell_type": "code",
   "execution_count": null,
   "id": "67cde3bd",
   "metadata": {},
   "outputs": [],
   "source": [
    "import numpy as np\n",
    "import matplotlib.pyplot as plt\n",
    "\n",
    "model = [nb_scores, rf_scores, svm_scores]\n",
    "model_name = ['NB', 'RF', 'SVM']\n",
    "colors = ['blue','yellow', 'orange']\n",
    "\n",
    "fig, ax = plt.subplots(figsize=(13, 8))\n",
    "boxplot = ax.boxplot(model, labels=model_name, patch_artist=True, vert=False, widths=0.7)\n",
    "\n",
    "for box, color in zip(boxplot['boxes'], colors):\n",
    "    box.set(facecolor=color)\n",
    "\n",
    "mean_scores = [np.mean(scores) for scores in model]\n",
    "medians = [item.get_ydata()[0] for item in boxplot['medians']]\n",
    "\n",
    "for i, (mean_score, median) in enumerate(zip(mean_scores, medians)):\n",
    "    ax.text(mean_score, median - 0.05,\n",
    "            f'Mean accuracy: {mean_score:.3f}',\n",
    "            ha='center', va='top')\n",
    "\n",
    "    \n",
    "    ax.plot(mean_score, median, marker='o', markersize=5, color='green')\n",
    "    boxplot['medians'][i].set_color('black')\n",
    "ax.set_xlabel('Accuracy')\n",
    "ax.set_title('Performance of Models Across all repeats and folds')\n",
    "plt.show()"
   ]
  }
 ],
 "metadata": {
  "kernelspec": {
   "display_name": "Python 3 (ipykernel)",
   "language": "python",
   "name": "python3"
  },
  "language_info": {
   "codemirror_mode": {
    "name": "ipython",
    "version": 3
   },
   "file_extension": ".py",
   "mimetype": "text/x-python",
   "name": "python",
   "nbconvert_exporter": "python",
   "pygments_lexer": "ipython3",
   "version": "3.9.12"
  }
 },
 "nbformat": 4,
 "nbformat_minor": 5
}
