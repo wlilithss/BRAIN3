{
 "cells": [
  {
   "cell_type": "code",
   "execution_count": 2,
   "id": "10659aaf",
   "metadata": {},
   "outputs": [],
   "source": [
    "import os\n",
    "import csv\n",
    "import numpy as np\n",
    "from scipy.io import wavfile\n",
    "\n",
    "parent_folder = \"/Users/tu123/Desktop/Data2\"\n",
    "X = []\n",
    "Y = []\n",
    "\n",
    "for folder in os.listdir(parent_folder):\n",
    "    folder_path = os.path.join(parent_folder, folder)\n",
    "    if os.path.isdir(folder_path):\n",
    "        for txt_file in os.listdir(folder_path):\n",
    "            if txt_file.endswith(\".txt\"):\n",
    "                events_list = []\n",
    "                with open(os.path.join(folder_path, txt_file), \"r\") as file:\n",
    "                    for line in file:\n",
    "                        line = line.strip()\n",
    "                        if line.startswith(\"#\"):\n",
    "                            continue\n",
    "                        value = float(line.split(\",\")[1])\n",
    "                        events_list.append(value)\n",
    "                \n",
    "                # Process .wav files\n",
    "                for wav_file in os.listdir(folder_path):\n",
    "                    if wav_file.endswith(\".wav\"):\n",
    "                        file_path = os.path.join(folder_path, wav_file)\n",
    "                        sample_rate, wave = wavfile.read(file_path)\n",
    "                        \n",
    "                        name_parts = os.path.splitext(wav_file)[0].split(\".\")\n",
    "                        name_chars = list(name_parts[0])\n",
    "                        Y.extend(name_chars)\n",
    "                        \n",
    "                        for event in events_list:\n",
    "                            start_index = int(event * sample_rate)\n",
    "                            stop_index = int((event + 0.75) * sample_rate)\n",
    "                            x_temp = wave[start_index:stop_index].tolist()\n",
    "                            X.append(x_temp)\n",
    "                            \n",
    "# Convert X to a 2D array\n",
    "X = np.array(X, dtype=object)\n",
    "\n",
    "# Write data to CSV files\n",
    "with open(\"Training_X1.csv\", \"w\", newline=\"\") as csvfile:\n",
    "    writer = csv.writer(csvfile)\n",
    "    writer.writerow([\"Time\", \"Id\", \"Values\"])\n",
    "    for i, x_row in enumerate(X):\n",
    "        writer.writerows(zip([i]*len(x_row), range(len(x_row)), x_row))\n",
    "\n",
    "with open(\"Training_Y1.csv\", \"w\", newline=\"\") as file:\n",
    "    writer = csv.writer(file)\n",
    "    writer.writerow([\"Class\"])\n",
    "    writer.writerows([[y] for y in Y])\n",
    "    "
   ]
  }
 ],
 "metadata": {
  "kernelspec": {
   "display_name": "Python 3 (ipykernel)",
   "language": "python",
   "name": "python3"
  },
  "language_info": {
   "codemirror_mode": {
    "name": "ipython",
    "version": 3
   },
   "file_extension": ".py",
   "mimetype": "text/x-python",
   "name": "python",
   "nbconvert_exporter": "python",
   "pygments_lexer": "ipython3",
   "version": "3.9.12"
  }
 },
 "nbformat": 4,
 "nbformat_minor": 5
}
